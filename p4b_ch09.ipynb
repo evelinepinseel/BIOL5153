{
 "cells": [
  {
   "cell_type": "code",
   "execution_count": 5,
   "metadata": {},
   "outputs": [],
   "source": [
    "#rename files or folders\n",
    "\n",
    "import os\n",
    "os.rename(\"chapter9_test_folder/test1.txt\",\"chapter9_test_folder/test4.txt\")"
   ]
  },
  {
   "cell_type": "code",
   "execution_count": 7,
   "metadata": {},
   "outputs": [],
   "source": [
    "#create a new directory\n",
    "\n",
    "import os\n",
    "os.mkdir(\"chapter9_test_folder/NEW_DIRECTORY\")"
   ]
  },
  {
   "cell_type": "code",
   "execution_count": 11,
   "metadata": {},
   "outputs": [
    {
     "data": {
      "text/plain": [
       "'chapter9_test_folder/files1/test2.txt'"
      ]
     },
     "execution_count": 11,
     "metadata": {},
     "output_type": "execute_result"
    }
   ],
   "source": [
    "#copy a file\n",
    "\n",
    "import shutil\n",
    "shutil.copy(\"chapter9_test_folder/test2.txt\",\"chapter9_test_folder/files1/test2.txt\")"
   ]
  },
  {
   "cell_type": "code",
   "execution_count": 14,
   "metadata": {},
   "outputs": [
    {
     "data": {
      "text/plain": [
       "'chapter9_test_folder/files1_copy'"
      ]
     },
     "execution_count": 14,
     "metadata": {},
     "output_type": "execute_result"
    }
   ],
   "source": [
    "#copy a folder\n",
    "\n",
    "import shutil\n",
    "shutil.copytree(\"chapter9_test_folder/files1\", \"chapter9_test_folder/files1_copy\")"
   ]
  },
  {
   "cell_type": "code",
   "execution_count": 15,
   "metadata": {},
   "outputs": [
    {
     "name": "stdout",
     "output_type": "stream",
     "text": [
      "File exists\n"
     ]
    }
   ],
   "source": [
    "#test whether a file exists\n",
    "\n",
    "import os\n",
    "if os.path.exists(\"chapter9_test_folder/test4.txt\"):\n",
    "    print(\"File exists\")\n",
    "    "
   ]
  },
  {
   "cell_type": "code",
   "execution_count": 17,
   "metadata": {},
   "outputs": [
    {
     "name": "stdout",
     "output_type": "stream",
     "text": [
      "Folder exists\n"
     ]
    }
   ],
   "source": [
    "#test whether a folder exists\n",
    "\n",
    "import os\n",
    "if os.path.exists(\"chapter9_test_folder/files1\"):\n",
    "    print(\"Folder exists\")"
   ]
  },
  {
   "cell_type": "code",
   "execution_count": 19,
   "metadata": {},
   "outputs": [],
   "source": [
    "#delete a single file\n",
    "\n",
    "import os\n",
    "os.remove(\"chapter9_test_folder/test2.txt\")"
   ]
  },
  {
   "cell_type": "code",
   "execution_count": 20,
   "metadata": {},
   "outputs": [],
   "source": [
    "#delete an empty folder\n",
    "\n",
    "import os\n",
    "os.rmdir(\"chapter9_test_folder/NEW_DIRECTORY\")"
   ]
  },
  {
   "cell_type": "code",
   "execution_count": 23,
   "metadata": {},
   "outputs": [],
   "source": [
    "#delete a folder and all the files in the folder\n",
    "\n",
    "import shutil\n",
    "shutil.rmtree(\"chapter9_test_folder/files1_copy\")"
   ]
  },
  {
   "cell_type": "code",
   "execution_count": 26,
   "metadata": {},
   "outputs": [
    {
     "name": "stdout",
     "output_type": "stream",
     "text": [
      "files1\n",
      "test4.txt\n"
     ]
    }
   ],
   "source": [
    "#get a list of all files in a path\n",
    "\n",
    "import os\n",
    "for file_name in os.listdir(\"chapter9_test_folder/.\"):\n",
    "    print(file_name)"
   ]
  },
  {
   "cell_type": "code",
   "execution_count": null,
   "metadata": {},
   "outputs": [],
   "source": []
  }
 ],
 "metadata": {
  "kernelspec": {
   "display_name": "Python 3",
   "language": "python",
   "name": "python3"
  },
  "language_info": {
   "codemirror_mode": {
    "name": "ipython",
    "version": 3
   },
   "file_extension": ".py",
   "mimetype": "text/x-python",
   "name": "python",
   "nbconvert_exporter": "python",
   "pygments_lexer": "ipython3",
   "version": "3.7.4"
  }
 },
 "nbformat": 4,
 "nbformat_minor": 2
}
