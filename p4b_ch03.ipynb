{
 "cells": [
  {
   "cell_type": "code",
   "execution_count": 1,
   "metadata": {},
   "outputs": [],
   "source": [
    "my_file = open(\"dna.txt\") #my_file is a file object"
   ]
  },
  {
   "cell_type": "code",
   "execution_count": 2,
   "metadata": {},
   "outputs": [
    {
     "name": "stdout",
     "output_type": "stream",
     "text": [
      "abcdefg\n",
      "43\n"
     ]
    }
   ],
   "source": [
    "my_string = 'abcdefg'\n",
    "print(my_string)\n",
    "my_number = 42\n",
    "print(my_number + 1)"
   ]
  },
  {
   "cell_type": "code",
   "execution_count": 3,
   "metadata": {},
   "outputs": [
    {
     "name": "stdout",
     "output_type": "stream",
     "text": [
      "AGCTCAAAGTCAGGGTCCAGATTAATCGCATGCAAATGCAAATTTGACAGTCGTACGTTGATCGATCCCGATAAAGCTAGGCTGACTCTCAGCTGACTGACTGACTGGGGTCAGCTACTTTAAAGGGCCCTGCACGTA\n"
     ]
    }
   ],
   "source": [
    "#work with files through methods\n",
    "my_file = open(\"DNA.txt\")\n",
    "file_contents = my_file.read() #method to read the content of a file\n",
    "print(file_contents)"
   ]
  },
  {
   "cell_type": "code",
   "execution_count": 6,
   "metadata": {},
   "outputs": [
    {
     "name": "stdout",
     "output_type": "stream",
     "text": [
      "AGCTCAAAGTCAGGGTCCAGATTAATCGCATGCAAATGCAAATTTGACAGTCGTACGTTGATCGATCCCGATAAAGCTAGGCTGACTCTCAGCTGACTGACTGACTGGGGTCAGCTACTTTAAAGGGCCCTGCACGTA\n"
     ]
    }
   ],
   "source": [
    "#confusion between file names, file objects, and the contents of a file\n",
    "my_file_name = \"dna.txt\"\n",
    "my_file = open(my_file_name)\n",
    "my_file_contents = my_file.read()"
   ]
  },
  {
   "cell_type": "code",
   "execution_count": 7,
   "metadata": {},
   "outputs": [],
   "source": [
    "#this does exactly the same as the code above\n",
    "apple = \"dna.txt\"\n",
    "banana = open(apple)\n",
    "grape = banana.read"
   ]
  },
  {
   "cell_type": "code",
   "execution_count": 8,
   "metadata": {},
   "outputs": [
    {
     "ename": "AttributeError",
     "evalue": "'str' object has no attribute 'read'",
     "output_type": "error",
     "traceback": [
      "\u001b[0;31m---------------------------------------------------------------------------\u001b[0m",
      "\u001b[0;31mAttributeError\u001b[0m                            Traceback (most recent call last)",
      "\u001b[0;32m<ipython-input-8-713de871889f>\u001b[0m in \u001b[0;36m<module>\u001b[0;34m\u001b[0m\n\u001b[1;32m      1\u001b[0m \u001b[0mmy_file_name\u001b[0m \u001b[0;34m=\u001b[0m \u001b[0;34m\"dna.txt\"\u001b[0m\u001b[0;34m\u001b[0m\u001b[0;34m\u001b[0m\u001b[0m\n\u001b[0;32m----> 2\u001b[0;31m \u001b[0mmy_contents\u001b[0m \u001b[0;34m=\u001b[0m \u001b[0mmy_file_name\u001b[0m\u001b[0;34m.\u001b[0m\u001b[0mread\u001b[0m\u001b[0;34m(\u001b[0m\u001b[0;34m)\u001b[0m\u001b[0;34m\u001b[0m\u001b[0;34m\u001b[0m\u001b[0m\n\u001b[0m",
      "\u001b[0;31mAttributeError\u001b[0m: 'str' object has no attribute 'read'"
     ]
    }
   ],
   "source": [
    "#common error\n",
    "my_file_name = \"dna.txt\"\n",
    "my_contents = my_file_name.read()"
   ]
  },
  {
   "cell_type": "code",
   "execution_count": 9,
   "metadata": {},
   "outputs": [
    {
     "name": "stdout",
     "output_type": "stream",
     "text": [
      "<_io.TextIOWrapper name='dna.txt' mode='r' encoding='UTF-8'>\n"
     ]
    }
   ],
   "source": [
    "#another common error\n",
    "my_file_name = \"dna.txt\"\n",
    "my_file = open(my_file_name)\n",
    "print(my_file)"
   ]
  },
  {
   "cell_type": "code",
   "execution_count": 10,
   "metadata": {},
   "outputs": [
    {
     "name": "stdout",
     "output_type": "stream",
     "text": [
      "sequence is ACTGTACGTGCACTGATC and length is 18\n"
     ]
    }
   ],
   "source": [
    "#open the file\n",
    "my_file = open(\"dna.txt\")\n",
    "#read the contents\n",
    "my_dna = my_file.read()\n",
    "#calculate the length\n",
    "dna_length = len(my_dna)\n",
    "#print the output\n",
    "print(\"sequence is \" + my_dna + \" and length is \" + str(dna_length))"
   ]
  },
  {
   "cell_type": "code",
   "execution_count": 11,
   "metadata": {},
   "outputs": [
    {
     "name": "stdout",
     "output_type": "stream",
     "text": [
      "sequence is ACTGTACGTGCACTGATC and length is 18\n"
     ]
    }
   ],
   "source": [
    "my_file = open(\"dna.txt\")\n",
    "my_file_contents = my_file.read()\n",
    "# remove the newline from the end of the file contents\n",
    "my_dna = my_file_contents.rstrip(\"\\n\")\n",
    "dna_length = len(my_dna)\n",
    "print(\"sequence is \" + my_dna +  \" and length is \" + str(dna_length))"
   ]
  },
  {
   "cell_type": "code",
   "execution_count": 12,
   "metadata": {},
   "outputs": [],
   "source": [
    "my_file_contents = my_file.read()\n",
    "my_dna = my_file_contents.rstrip(\"\\n\")"
   ]
  },
  {
   "cell_type": "code",
   "execution_count": 13,
   "metadata": {},
   "outputs": [],
   "source": [
    "#do everything at once\n",
    "my_dna = my_file.read().rstrip(\"\\n\")"
   ]
  },
  {
   "cell_type": "code",
   "execution_count": 14,
   "metadata": {},
   "outputs": [
    {
     "ename": "FileNotFoundError",
     "evalue": "[Errno 2] No such file or directory: 'nonexistent.txt'",
     "output_type": "error",
     "traceback": [
      "\u001b[0;31m---------------------------------------------------------------------------\u001b[0m",
      "\u001b[0;31mFileNotFoundError\u001b[0m                         Traceback (most recent call last)",
      "\u001b[0;32m<ipython-input-14-ea063a22588a>\u001b[0m in \u001b[0;36m<module>\u001b[0;34m\u001b[0m\n\u001b[1;32m      1\u001b[0m \u001b[0;31m#missing files\u001b[0m\u001b[0;34m\u001b[0m\u001b[0;34m\u001b[0m\u001b[0;34m\u001b[0m\u001b[0m\n\u001b[0;32m----> 2\u001b[0;31m \u001b[0mmy_file\u001b[0m \u001b[0;34m=\u001b[0m \u001b[0mopen\u001b[0m\u001b[0;34m(\u001b[0m\u001b[0;34m\"nonexistent.txt\"\u001b[0m\u001b[0;34m)\u001b[0m\u001b[0;34m\u001b[0m\u001b[0;34m\u001b[0m\u001b[0m\n\u001b[0m",
      "\u001b[0;31mFileNotFoundError\u001b[0m: [Errno 2] No such file or directory: 'nonexistent.txt'"
     ]
    }
   ],
   "source": [
    "#missing files\n",
    "my_file = open(\"nonexistent.txt\")"
   ]
  },
  {
   "cell_type": "code",
   "execution_count": 18,
   "metadata": {},
   "outputs": [
    {
     "data": {
      "text/plain": [
       "11"
      ]
     },
     "execution_count": 18,
     "metadata": {},
     "output_type": "execute_result"
    }
   ],
   "source": [
    "#writing text to files\n",
    "my_file = open(\"out.txt\", \"w\")\n",
    "my_file.write(\"Hello world\")"
   ]
  },
  {
   "cell_type": "code",
   "execution_count": 21,
   "metadata": {},
   "outputs": [
    {
     "data": {
      "text/plain": [
       "4"
      ]
     },
     "execution_count": 21,
     "metadata": {},
     "output_type": "execute_result"
    }
   ],
   "source": [
    "my_file = open(\"out.txt\", \"w\")\n",
    "# write \"abcdef\"\n",
    "my_file.write(\"abc\" + \"def\")\n",
    "# write \"8\"\n",
    "my_file.write(str(len('AGTGCTAG')))\n",
    "# write \"TTGC\"\n",
    "my_file.write(\"ATGC\".replace('A', 'T'))\n",
    "# write \"atgc\"\n",
    "my_file.write(\"ATGC\".lower())"
   ]
  },
  {
   "cell_type": "code",
   "execution_count": 23,
   "metadata": {},
   "outputs": [],
   "source": [
    "#closing files\n",
    "my_file = open(\"out.txt\", \"w\")\n",
    "my_file.write(\"Hello world\")\n",
    "# remember to close the file\n",
    "my_file.close()"
   ]
  },
  {
   "cell_type": "code",
   "execution_count": 28,
   "metadata": {},
   "outputs": [
    {
     "data": {
      "text/plain": [
       "96"
      ]
     },
     "execution_count": 28,
     "metadata": {},
     "output_type": "execute_result"
    }
   ],
   "source": [
    "#excercise: splitting genomic dna\n",
    "my_file = open(\"genomic_dna.txt\")\n",
    "my_dna = my_file.read()\n",
    "exon1 = my_dna[0:62]\n",
    "intron = my_dna[62:90]\n",
    "exon2 = my_dna[90:10000]\n",
    "\n",
    "intron_file = open(\"intron.txt\", \"w\")\n",
    "intron_file.write(intron)\n",
    "exon_file = open(\"exon.txt\", \"w\")\n",
    "exon_file.write(exon1 + exon2)"
   ]
  },
  {
   "cell_type": "code",
   "execution_count": 50,
   "metadata": {},
   "outputs": [
    {
     "data": {
      "text/plain": [
       "110"
      ]
     },
     "execution_count": 50,
     "metadata": {},
     "output_type": "execute_result"
    }
   ],
   "source": [
    "#excercise: writing a fasta file\n",
    "\n",
    "#variables\n",
    "header1 = \">ABC123\"\n",
    "header2 = \">DEF456\"\n",
    "header3 = \">HIJ789\"\n",
    "seq1 = \"ATCGTACGATCGATCGATCGCTAGACGTATCG\"\n",
    "seq2 = \"actgatcgacgatcgatcgatcacgact\"\n",
    "seq3 = \"ACTGAC-ACTGT--ACTGTA----CATGTG\"\n",
    "\n",
    "#bring all sequences to upper case\n",
    "seq1_upper = seq1.upper()\n",
    "seq2_upper = seq2.upper()\n",
    "seq3_upper = seq3.upper()\n",
    "\n",
    "#remove non A/G/T/C from the sequences\n",
    "seq1_upper2 = seq1_upper.replace(\"-\",\"\")\n",
    "seq2_upper2 = seq2_upper.replace(\"-\",\"\")\n",
    "seq3_upper2 = seq3_upper.replace(\"-\",\"\")\n",
    "\n",
    "#print the contents to a file\n",
    "sequence_file = open(\"sequences.fasta\", \"w\")\n",
    "sequence_file.write(header1 + \"\\n\" + seq1_upper2 + \"\\n\" + \n",
    "                   header2 + \"\\n\" + seq2_upper2 + \"\\n\" +\n",
    "                   header3 + \"\\n\" + seq3_upper2 + \"\\n\" )"
   ]
  },
  {
   "cell_type": "code",
   "execution_count": 55,
   "metadata": {},
   "outputs": [
    {
     "data": {
      "text/plain": [
       "31"
      ]
     },
     "execution_count": 55,
     "metadata": {},
     "output_type": "execute_result"
    }
   ],
   "source": [
    "#excercise: writing multiple FASTA files\n",
    "\n",
    "#variables\n",
    "header1 = \">ABC123\"\n",
    "header2 = \">DEF456\"\n",
    "header3 = \">HIJ789\"\n",
    "seq1 = \"ATCGTACGATCGATCGATCGCTAGACGTATCG\"\n",
    "seq2 = \"actgatcgacgatcgatcgatcacgact\"\n",
    "seq3 = \"ACTGAC-ACTGT--ACTGTA----CATGTG\"\n",
    "\n",
    "sequence_file1 = open(\"ABC123.fasta\", \"w\")\n",
    "sequence_file1.write(header1 + \"\\n\" + seq1)\n",
    "\n",
    "sequence_file2 = open(\"DEF456.fasta\", \"w\")\n",
    "sequence_file2.write(header2 + \"\\n\" + seq2.upper())\n",
    "\n",
    "sequence_file3 = open(\"HIJ789.fasta\", \"w\")\n",
    "sequence_file3.write(header3 + \"\\n\" + seq3.replace(\"-\",\"\"))"
   ]
  },
  {
   "cell_type": "code",
   "execution_count": null,
   "metadata": {},
   "outputs": [],
   "source": []
  }
 ],
 "metadata": {
  "kernelspec": {
   "display_name": "Python 3",
   "language": "python",
   "name": "python3"
  },
  "language_info": {
   "codemirror_mode": {
    "name": "ipython",
    "version": 3
   },
   "file_extension": ".py",
   "mimetype": "text/x-python",
   "name": "python",
   "nbconvert_exporter": "python",
   "pygments_lexer": "ipython3",
   "version": "3.7.4"
  }
 },
 "nbformat": 4,
 "nbformat_minor": 2
}
